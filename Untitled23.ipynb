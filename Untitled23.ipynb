{
 "cells": [
  {
   "cell_type": "code",
   "execution_count": 3,
   "id": "637bd320-86ca-4d4f-beaf-aba59a3a2361",
   "metadata": {
    "tags": []
   },
   "outputs": [
    {
     "name": "stdout",
     "output_type": "stream",
     "text": [
      "govno 5\n",
      "govno 4\n"
     ]
    }
   ],
   "source": [
    "s = '54'\n",
    "d = \n",
    "f\n",
    "        print('g"
   ]
  },
  {
   "cell_type": "code",
   "execution_count": 5,
   "id": "6809d44e-6ff9-4e4d-81b6-348ed677fe69",
   "metadata": {
    "tags": []
   },
   "outputs": [
    {
     "name": "stdout",
     "output_type": "stream",
     "text": [
      "pppp\n"
     ]
    }
   ],
   "source": [
    "iunctuation))\n",
    "print(s)"
   ]
  },
  {
   "cell_type": "code",
   "execution_count": 6,
   "id": "7d2861ba-15d4-4d62-bba2-52438cbf6375",
   "metadata": {
    "tags": []
   },
   "outputs": [
    {
     "name": "stdout",
     "output_type": "stream",
     "text": [
      "['38°54′', 'с', 'ш', '121°36′', 'в', 'дHGЯO', 'Далянь', 'Материал', 'из', 'Википедии', '—', 'свободной', 'энциклопедии', 'Не', 'следует', 'путать', 'с', 'Даляном', '—', 'старым', 'названием', 'города', 'Кайфын', 'У', 'этого', 'термина', 'существуют', 'и', 'другие', 'значения', 'см', 'Дальний', 'Город', 'субпровинциального', 'значения', 'Далянь', 'кит', 'упр', '大连', 'пиньинь', 'Dàlián', '38°54′', 'с', 'ш', '121°36′', 'в', 'дHGЯO', 'Страна', 'Китай', 'Провинция', 'Ляонин']\n"
     ]
    }
   ],
   "source": [
    "s = '''38°54′ с. ш. 121°36′ в. д.HGЯO\n",
    "Далянь\n",
    "Материал из Википедии — свободной энциклопедии\n",
    "Не следует путать с Даляном — старым названием города Кайфын.\n",
    "У этого термина существуют и другие значения, см. Дальний.\n",
    "Город субпровинциального значения\n",
    "Далянь\n",
    "кит. упр. 大连, пиньинь Dàlián\n",
    "\n",
    "38°54′ с. ш. 121°36′ в. д.HGЯO\n",
    "Страна\t Китай\n",
    "Провинция\tЛяонин'''\n",
    "word_list = s.translate(str.maketrans(dict.fromkeys(string.punctuation))).split()\n"
   ]
  },
  {
   "cell_type": "code",
   "execution_count": null,
   "id": "b746ea58-53ab-4ec6-8f5f-67d150f14fe3",
   "metadata": {},
   "outputs": [],
   "source": [
    "fgfggffgg"
   ]
  },
  {
   "cell_type": "code",
   "execution_count": null,
   "id": "e27e447a-a208-4368-8f20-4b329c6e8639",
   "metadata": {},
   "outputs": [],
   "source": [
    "хааач"
   ]
  }
 ],
 "metadata": {
  "kernelspec": {
   "display_name": "Python 3 (ipykernel)",
   "language": "python",
   "name": "python3"
  },
  "language_info": {
   "codemirror_mode": {
    "name": "ipython",
    "version": 3
   },
   "file_extension": ".py",
   "mimetype": "text/x-python",
   "name": "python",
   "nbconvert_exporter": "python",
   "pygments_lexer": "ipython3",
   "version": "3.11.2"
  }
 },
 "nbformat": 4,
 "nbformat_minor": 5
}
